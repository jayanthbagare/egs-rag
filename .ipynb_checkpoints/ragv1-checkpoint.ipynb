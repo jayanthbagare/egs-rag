{
 "cells": [
  {
   "cell_type": "code",
   "execution_count": 1,
   "id": "0feee0b5-ecc3-4893-adb3-0739e315ca30",
   "metadata": {},
   "outputs": [],
   "source": [
    "import os\n",
    "from langchain_community.document_loaders import DirectoryLoader\n",
    "from langchain_community.document_loaders import TextLoader\n",
    "from langchain_text_splitters import CharacterTextSplitter\n",
    "from langchain_community.embeddings import OllamaEmbeddings\n",
    "from langchain_community.llms import Ollama\n",
    "from langchain_community.vectorstores import Chroma\n",
    "from langchain_core.prompts import ChatPromptTemplate\n",
    "from langchain.chains.combine_documents import create_stuff_documents_chain\n",
    "from langchain.chains import create_retrieval_chain"
   ]
  },
  {
   "cell_type": "code",
   "execution_count": 2,
   "id": "0d470a63-cf79-4133-be58-618908b002c1",
   "metadata": {},
   "outputs": [],
   "source": [
    "data_dir = './data/'\n",
    "persist_dir = './persist/'\n",
    "llm = Ollama(model=\"mistral\")\n",
    "embedding = OllamaEmbeddings(model=\"mistral\")"
   ]
  },
  {
   "cell_type": "code",
   "execution_count": 3,
   "id": "63874596-ec41-4bfc-882b-6c4ae77d1111",
   "metadata": {},
   "outputs": [],
   "source": [
    "def load_documents(data_dir):\n",
    "    loader = DirectoryLoader('./data/',glob=\"./*.txt\",loader_cls=TextLoader)\n",
    "    docs = loader.load()\n",
    "    return docs"
   ]
  },
  {
   "cell_type": "code",
   "execution_count": 4,
   "id": "0f3da2ed-b644-4ade-86c8-4ea31165d188",
   "metadata": {},
   "outputs": [],
   "source": [
    "def chunk_documents(docs):\n",
    "    ts = CharacterTextSplitter(chunk_size=1000,chunk_overlap=200)\n",
    "    chunks = ts.split_documents(docs)\n",
    "    return chunks"
   ]
  },
  {
   "cell_type": "code",
   "execution_count": 5,
   "id": "ebb8706d-2fc2-49c6-87ed-b912e50f5e84",
   "metadata": {},
   "outputs": [],
   "source": [
    "def vec_store(chunks):\n",
    "    vector_store = Chroma.from_documents(documents=chunks,embedding=embedding,persist_directory=persist_dir)\n",
    "    return vector_store"
   ]
  },
  {
   "cell_type": "code",
   "execution_count": 6,
   "id": "ce510648-047f-43f1-ade9-27bac1f3d9bc",
   "metadata": {},
   "outputs": [],
   "source": [
    "docs = load_documents(data_dir)"
   ]
  },
  {
   "cell_type": "code",
   "execution_count": 7,
   "id": "76cb9d16-be50-4ce6-b51c-221230c216f4",
   "metadata": {},
   "outputs": [
    {
     "name": "stderr",
     "output_type": "stream",
     "text": [
      "Created a chunk of size 4264, which is longer than the specified 1000\n",
      "Created a chunk of size 4989, which is longer than the specified 1000\n",
      "Created a chunk of size 4261, which is longer than the specified 1000\n",
      "Created a chunk of size 2521, which is longer than the specified 1000\n",
      "Created a chunk of size 4305, which is longer than the specified 1000\n",
      "Created a chunk of size 3889, which is longer than the specified 1000\n",
      "Created a chunk of size 3896, which is longer than the specified 1000\n",
      "Created a chunk of size 3636, which is longer than the specified 1000\n",
      "Created a chunk of size 3939, which is longer than the specified 1000\n",
      "Created a chunk of size 5059, which is longer than the specified 1000\n",
      "Created a chunk of size 4243, which is longer than the specified 1000\n",
      "Created a chunk of size 4012, which is longer than the specified 1000\n",
      "Created a chunk of size 2637, which is longer than the specified 1000\n",
      "Created a chunk of size 4280, which is longer than the specified 1000\n",
      "Created a chunk of size 4163, which is longer than the specified 1000\n",
      "Created a chunk of size 4286, which is longer than the specified 1000\n",
      "Created a chunk of size 2344, which is longer than the specified 1000\n",
      "Created a chunk of size 3546, which is longer than the specified 1000\n",
      "Created a chunk of size 4235, which is longer than the specified 1000\n",
      "Created a chunk of size 2371, which is longer than the specified 1000\n",
      "Created a chunk of size 1739, which is longer than the specified 1000\n",
      "Created a chunk of size 3784, which is longer than the specified 1000\n",
      "Created a chunk of size 3601, which is longer than the specified 1000\n",
      "Created a chunk of size 4446, which is longer than the specified 1000\n",
      "Created a chunk of size 1115, which is longer than the specified 1000\n",
      "Created a chunk of size 3391, which is longer than the specified 1000\n",
      "Created a chunk of size 3334, which is longer than the specified 1000\n",
      "Created a chunk of size 4058, which is longer than the specified 1000\n",
      "Created a chunk of size 2765, which is longer than the specified 1000\n",
      "Created a chunk of size 4619, which is longer than the specified 1000\n",
      "Created a chunk of size 3267, which is longer than the specified 1000\n",
      "Created a chunk of size 3662, which is longer than the specified 1000\n",
      "Created a chunk of size 4721, which is longer than the specified 1000\n",
      "Created a chunk of size 3853, which is longer than the specified 1000\n",
      "Created a chunk of size 3770, which is longer than the specified 1000\n",
      "Created a chunk of size 4147, which is longer than the specified 1000\n",
      "Created a chunk of size 3995, which is longer than the specified 1000\n",
      "Created a chunk of size 3988, which is longer than the specified 1000\n",
      "Created a chunk of size 4492, which is longer than the specified 1000\n",
      "Created a chunk of size 3714, which is longer than the specified 1000\n",
      "Created a chunk of size 4614, which is longer than the specified 1000\n",
      "Created a chunk of size 3203, which is longer than the specified 1000\n",
      "Created a chunk of size 3853, which is longer than the specified 1000\n",
      "Created a chunk of size 3486, which is longer than the specified 1000\n",
      "Created a chunk of size 3750, which is longer than the specified 1000\n",
      "Created a chunk of size 4337, which is longer than the specified 1000\n",
      "Created a chunk of size 2419, which is longer than the specified 1000\n",
      "Created a chunk of size 4940, which is longer than the specified 1000\n",
      "Created a chunk of size 5059, which is longer than the specified 1000\n",
      "Created a chunk of size 3292, which is longer than the specified 1000\n",
      "Created a chunk of size 4821, which is longer than the specified 1000\n",
      "Created a chunk of size 2634, which is longer than the specified 1000\n",
      "Created a chunk of size 3455, which is longer than the specified 1000\n",
      "Created a chunk of size 1408, which is longer than the specified 1000\n",
      "Created a chunk of size 4385, which is longer than the specified 1000\n",
      "Created a chunk of size 2916, which is longer than the specified 1000\n",
      "Created a chunk of size 4181, which is longer than the specified 1000\n",
      "Created a chunk of size 4761, which is longer than the specified 1000\n",
      "Created a chunk of size 3698, which is longer than the specified 1000\n",
      "Created a chunk of size 3495, which is longer than the specified 1000\n",
      "Created a chunk of size 1969, which is longer than the specified 1000\n",
      "Created a chunk of size 1715, which is longer than the specified 1000\n",
      "Created a chunk of size 3981, which is longer than the specified 1000\n",
      "Created a chunk of size 3952, which is longer than the specified 1000\n",
      "Created a chunk of size 3131, which is longer than the specified 1000\n",
      "Created a chunk of size 4466, which is longer than the specified 1000\n",
      "Created a chunk of size 4020, which is longer than the specified 1000\n",
      "Created a chunk of size 4093, which is longer than the specified 1000\n",
      "Created a chunk of size 2762, which is longer than the specified 1000\n",
      "Created a chunk of size 3962, which is longer than the specified 1000\n",
      "Created a chunk of size 3846, which is longer than the specified 1000\n",
      "Created a chunk of size 4564, which is longer than the specified 1000\n",
      "Created a chunk of size 3677, which is longer than the specified 1000\n",
      "Created a chunk of size 4050, which is longer than the specified 1000\n",
      "Created a chunk of size 4159, which is longer than the specified 1000\n",
      "Created a chunk of size 4623, which is longer than the specified 1000\n",
      "Created a chunk of size 4395, which is longer than the specified 1000\n",
      "Created a chunk of size 4350, which is longer than the specified 1000\n",
      "Created a chunk of size 1259, which is longer than the specified 1000\n",
      "Created a chunk of size 2961, which is longer than the specified 1000\n",
      "Created a chunk of size 2984, which is longer than the specified 1000\n",
      "Created a chunk of size 1339, which is longer than the specified 1000\n",
      "Created a chunk of size 4107, which is longer than the specified 1000\n",
      "Created a chunk of size 3503, which is longer than the specified 1000\n",
      "Created a chunk of size 4346, which is longer than the specified 1000\n",
      "Created a chunk of size 3117, which is longer than the specified 1000\n",
      "Created a chunk of size 1755, which is longer than the specified 1000\n",
      "Created a chunk of size 2580, which is longer than the specified 1000\n",
      "Created a chunk of size 4663, which is longer than the specified 1000\n",
      "Created a chunk of size 3938, which is longer than the specified 1000\n",
      "Created a chunk of size 2096, which is longer than the specified 1000\n"
     ]
    }
   ],
   "source": [
    "chunks = chunk_documents(docs)"
   ]
  },
  {
   "cell_type": "code",
   "execution_count": 8,
   "id": "56689363-4c5c-4582-ba68-6e58893b20ab",
   "metadata": {},
   "outputs": [],
   "source": [
    "# vector_store = vec_store(chunks)"
   ]
  },
  {
   "cell_type": "code",
   "execution_count": 9,
   "id": "cc569156-653e-4dae-8cb1-b57a15537aa6",
   "metadata": {},
   "outputs": [],
   "source": [
    "# vector_store.persist()"
   ]
  },
  {
   "cell_type": "code",
   "execution_count": 10,
   "id": "19d07bb7-c0fa-465f-aff5-51da1bc3fb09",
   "metadata": {},
   "outputs": [],
   "source": [
    "vectordb = Chroma(persist_directory=persist_dir, embedding_function=embedding)"
   ]
  },
  {
   "cell_type": "code",
   "execution_count": 11,
   "id": "c629ca19-43b2-4793-9f61-674cfaa2de4d",
   "metadata": {},
   "outputs": [],
   "source": [
    "retriever = vectordb.as_retriever(search_type=\"similarity\",search_kwargs={\"k\":6})"
   ]
  },
  {
   "cell_type": "code",
   "execution_count": 12,
   "id": "bc337108-adde-436a-9987-7f801555d004",
   "metadata": {},
   "outputs": [],
   "source": [
    "prompt = ChatPromptTemplate.from_template(\"\"\"Answer the following question based only on the provided context:\n",
    "\n",
    "<context>\n",
    "{context}\n",
    "</context>\n",
    "\n",
    "Question: {input}\"\"\")\n"
   ]
  },
  {
   "cell_type": "code",
   "execution_count": 13,
   "id": "c3d81558-dbe5-41fc-a052-d14840253381",
   "metadata": {},
   "outputs": [],
   "source": [
    "document_chain = create_stuff_documents_chain(llm, prompt)"
   ]
  },
  {
   "cell_type": "code",
   "execution_count": 14,
   "id": "329993ab-dcb9-41b1-bbb3-4346a0358bc0",
   "metadata": {},
   "outputs": [],
   "source": [
    "retrieval_chain = create_retrieval_chain(retriever, document_chain)"
   ]
  },
  {
   "cell_type": "code",
   "execution_count": 24,
   "id": "b74992db-f969-4a32-93f8-9f7148e8628d",
   "metadata": {},
   "outputs": [],
   "source": [
    "response = retrieval_chain.invoke({\"input\": \"Who is blind?\"})"
   ]
  },
  {
   "cell_type": "code",
   "execution_count": 25,
   "id": "0af295a8-5b7e-4adf-b640-42cd45969f06",
   "metadata": {},
   "outputs": [
    {
     "data": {
      "text/plain": [
       "' Tiffany and some members of the rural community that Jyotirgamaya Foundation engages with are blind.'"
      ]
     },
     "execution_count": 25,
     "metadata": {},
     "output_type": "execute_result"
    }
   ],
   "source": [
    "response[\"answer\"]"
   ]
  }
 ],
 "metadata": {
  "kernelspec": {
   "display_name": "Python 3 (ipykernel)",
   "language": "python",
   "name": "python3"
  },
  "language_info": {
   "codemirror_mode": {
    "name": "ipython",
    "version": 3
   },
   "file_extension": ".py",
   "mimetype": "text/x-python",
   "name": "python",
   "nbconvert_exporter": "python",
   "pygments_lexer": "ipython3",
   "version": "3.11.7"
  }
 },
 "nbformat": 4,
 "nbformat_minor": 5
}
